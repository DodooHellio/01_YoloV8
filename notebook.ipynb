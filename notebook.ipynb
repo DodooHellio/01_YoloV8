{
 "cells": [
  {
   "cell_type": "markdown",
   "metadata": {},
   "source": [
    "## Setup"
   ]
  },
  {
   "cell_type": "markdown",
   "metadata": {},
   "source": [
    "### Remove notebook Warning"
   ]
  },
  {
   "cell_type": "code",
   "execution_count": 52,
   "metadata": {},
   "outputs": [],
   "source": [
    "import warnings\n",
    "warnings.filterwarnings('ignore')"
   ]
  },
  {
   "cell_type": "markdown",
   "metadata": {},
   "source": [
    "### Auto-reloard and better matplot"
   ]
  },
  {
   "cell_type": "code",
   "execution_count": 53,
   "metadata": {},
   "outputs": [
    {
     "name": "stdout",
     "output_type": "stream",
     "text": [
      "The autoreload extension is already loaded. To reload it, use:\n",
      "  %reload_ext autoreload\n"
     ]
    }
   ],
   "source": [
    "%load_ext autoreload\n",
    "%autoreload 2\n",
    "%matplotlib inline"
   ]
  },
  {
   "cell_type": "markdown",
   "metadata": {},
   "source": [
    "### Imports"
   ]
  },
  {
   "cell_type": "code",
   "execution_count": 54,
   "metadata": {},
   "outputs": [],
   "source": [
    "import cv2\n",
    "import cvzone\n",
    "from ultralytics import YOLO\n",
    "import time\n",
    "from IPython.display import Video\n",
    "from screeninfo import get_monitors\n",
    "import os"
   ]
  },
  {
   "cell_type": "markdown",
   "metadata": {},
   "source": [
    "### Monitor Infos"
   ]
  },
  {
   "cell_type": "code",
   "execution_count": 55,
   "metadata": {},
   "outputs": [],
   "source": [
    "# Get a list of connected monitors\n",
    "monitors = get_monitors()\n",
    "\n",
    "# Get the dimensions of the first monitor\n",
    "monitor = monitors[0]\n",
    "monitor_width = monitor.width\n",
    "monitor_height = monitor.height"
   ]
  },
  {
   "cell_type": "markdown",
   "metadata": {},
   "source": [
    "## Params"
   ]
  },
  {
   "cell_type": "code",
   "execution_count": 56,
   "metadata": {},
   "outputs": [],
   "source": [
    "video_name = \"P1077418_Balcon_4K25FPS.MP4\"\n",
    "\n",
    "mask_name = \"P1077418_Balcon_4K25FPS_MASK.jpg\"\n",
    "apply_mask = True\n",
    "display_mask = False\n"
   ]
  },
  {
   "cell_type": "markdown",
   "metadata": {},
   "source": [
    "## Main"
   ]
  },
  {
   "cell_type": "markdown",
   "metadata": {},
   "source": [
    "### Model"
   ]
  },
  {
   "cell_type": "code",
   "execution_count": 57,
   "metadata": {},
   "outputs": [],
   "source": [
    "facemodel = YOLO('Model/yolov8n-face.pt')"
   ]
  },
  {
   "cell_type": "markdown",
   "metadata": {},
   "source": [
    "### Loading file"
   ]
  },
  {
   "cell_type": "code",
   "execution_count": 58,
   "metadata": {},
   "outputs": [],
   "source": [
    "#Path video to analyse and check file exist in ./Videos/video_name\n",
    "file_video_path = os.path.join(os. getcwd(), \"Videos\", video_name )\n",
    "if os.path.exists(file_video_path):\n",
    "    pass\n",
    "else :\n",
    "    raise FileExistsError"
   ]
  },
  {
   "cell_type": "markdown",
   "metadata": {},
   "source": [
    "### Open Video"
   ]
  },
  {
   "cell_type": "code",
   "execution_count": 59,
   "metadata": {},
   "outputs": [],
   "source": [
    "cap = cv2.VideoCapture(file_video_path)"
   ]
  },
  {
   "cell_type": "markdown",
   "metadata": {},
   "source": [
    "### Video Infos"
   ]
  },
  {
   "cell_type": "code",
   "execution_count": 60,
   "metadata": {},
   "outputs": [],
   "source": [
    "fps = cap.get(cv2.CAP_PROP_FPS)\n",
    "delay = int(1000 / fps)\n",
    "\n",
    "\n",
    "video_width = int(cap.get(cv2.CAP_PROP_FRAME_WIDTH))\n",
    "video_height = int(cap.get(cv2.CAP_PROP_FRAME_HEIGHT))"
   ]
  },
  {
   "cell_type": "markdown",
   "metadata": {},
   "source": [
    "### Open Mask"
   ]
  },
  {
   "cell_type": "code",
   "execution_count": 61,
   "metadata": {},
   "outputs": [],
   "source": [
    "if apply_mask :\n",
    "\n",
    "    mask_path = os.path.join(os. getcwd(), \"Videos\", mask_name )\n",
    "\n",
    "    if os.path.exists(mask_path):\n",
    "        mask = cv2.imread(mask_path)\n",
    "\n",
    "        mask_gray = cv2.cvtColor(mask, cv2.COLOR_BGR2GRAY)\n",
    "        _, mask_binary = cv2.threshold(mask_gray, 128, 255, cv2.THRESH_BINARY)\n",
    "\n",
    "    else:\n",
    "        raise FileExistsError\n"
   ]
  },
  {
   "cell_type": "markdown",
   "metadata": {},
   "source": [
    "### Display Video and detection"
   ]
  },
  {
   "cell_type": "code",
   "execution_count": 64,
   "metadata": {},
   "outputs": [
    {
     "name": "stdout",
     "output_type": "stream",
     "text": [
      "\n",
      "0: 384x640 2 faces, 13.6ms\n",
      "Speed: 908.8ms preprocess, 13.6ms inference, 3.0ms postprocess per image at shape (1, 3, 384, 640)\n",
      "\n",
      "0: 384x640 2 faces, 19.2ms\n",
      "Speed: 3.1ms preprocess, 19.2ms inference, 4.3ms postprocess per image at shape (1, 3, 384, 640)\n",
      "\n",
      "0: 384x640 2 faces, 19.9ms\n",
      "Speed: 4.7ms preprocess, 19.9ms inference, 3.5ms postprocess per image at shape (1, 3, 384, 640)\n",
      "\n",
      "0: 384x640 2 faces, 15.4ms\n",
      "Speed: 2.9ms preprocess, 15.4ms inference, 4.3ms postprocess per image at shape (1, 3, 384, 640)\n",
      "\n",
      "0: 384x640 2 faces, 15.9ms\n",
      "Speed: 2.9ms preprocess, 15.9ms inference, 4.4ms postprocess per image at shape (1, 3, 384, 640)\n",
      "\n",
      "0: 384x640 2 faces, 18.5ms\n",
      "Speed: 3.9ms preprocess, 18.5ms inference, 4.0ms postprocess per image at shape (1, 3, 384, 640)\n",
      "\n",
      "0: 384x640 2 faces, 22.9ms\n",
      "Speed: 3.3ms preprocess, 22.9ms inference, 3.3ms postprocess per image at shape (1, 3, 384, 640)\n",
      "\n",
      "0: 384x640 2 faces, 26.2ms\n",
      "Speed: 3.6ms preprocess, 26.2ms inference, 2.3ms postprocess per image at shape (1, 3, 384, 640)\n",
      "\n",
      "0: 384x640 2 faces, 14.0ms\n",
      "Speed: 3.0ms preprocess, 14.0ms inference, 4.5ms postprocess per image at shape (1, 3, 384, 640)\n",
      "\n",
      "0: 384x640 1 face, 15.6ms\n",
      "Speed: 2.9ms preprocess, 15.6ms inference, 3.3ms postprocess per image at shape (1, 3, 384, 640)\n",
      "\n",
      "0: 384x640 2 faces, 20.0ms\n",
      "Speed: 4.1ms preprocess, 20.0ms inference, 3.0ms postprocess per image at shape (1, 3, 384, 640)\n",
      "\n",
      "0: 384x640 1 face, 22.1ms\n",
      "Speed: 3.7ms preprocess, 22.1ms inference, 2.8ms postprocess per image at shape (1, 3, 384, 640)\n",
      "\n",
      "0: 384x640 1 face, 22.9ms\n",
      "Speed: 3.0ms preprocess, 22.9ms inference, 2.6ms postprocess per image at shape (1, 3, 384, 640)\n",
      "\n",
      "0: 384x640 1 face, 22.3ms\n",
      "Speed: 3.5ms preprocess, 22.3ms inference, 3.0ms postprocess per image at shape (1, 3, 384, 640)\n",
      "\n",
      "0: 384x640 1 face, 20.2ms\n",
      "Speed: 3.3ms preprocess, 20.2ms inference, 3.7ms postprocess per image at shape (1, 3, 384, 640)\n",
      "\n",
      "0: 384x640 (no detections), 19.0ms\n",
      "Speed: 3.1ms preprocess, 19.0ms inference, 1.1ms postprocess per image at shape (1, 3, 384, 640)\n",
      "\n",
      "0: 384x640 (no detections), 32.8ms\n",
      "Speed: 5.9ms preprocess, 32.8ms inference, 4.6ms postprocess per image at shape (1, 3, 384, 640)\n",
      "\n",
      "0: 384x640 (no detections), 35.8ms\n",
      "Speed: 3.6ms preprocess, 35.8ms inference, 3.9ms postprocess per image at shape (1, 3, 384, 640)\n",
      "\n",
      "0: 384x640 (no detections), 35.7ms\n",
      "Speed: 8.0ms preprocess, 35.7ms inference, 1.5ms postprocess per image at shape (1, 3, 384, 640)\n",
      "\n",
      "0: 384x640 1 face, 35.1ms\n",
      "Speed: 8.2ms preprocess, 35.1ms inference, 2.9ms postprocess per image at shape (1, 3, 384, 640)\n",
      "\n",
      "0: 384x640 1 face, 13.7ms\n",
      "Speed: 2.6ms preprocess, 13.7ms inference, 2.5ms postprocess per image at shape (1, 3, 384, 640)\n",
      "\n",
      "0: 384x640 1 face, 20.0ms\n",
      "Speed: 2.7ms preprocess, 20.0ms inference, 3.2ms postprocess per image at shape (1, 3, 384, 640)\n",
      "\n",
      "0: 384x640 (no detections), 16.2ms\n",
      "Speed: 2.8ms preprocess, 16.2ms inference, 1.4ms postprocess per image at shape (1, 3, 384, 640)\n",
      "\n",
      "0: 384x640 (no detections), 15.6ms\n",
      "Speed: 3.3ms preprocess, 15.6ms inference, 1.6ms postprocess per image at shape (1, 3, 384, 640)\n",
      "\n",
      "0: 384x640 2 faces, 15.0ms\n",
      "Speed: 2.8ms preprocess, 15.0ms inference, 2.8ms postprocess per image at shape (1, 3, 384, 640)\n",
      "\n",
      "0: 384x640 (no detections), 22.2ms\n",
      "Speed: 5.5ms preprocess, 22.2ms inference, 2.2ms postprocess per image at shape (1, 3, 384, 640)\n",
      "\n",
      "0: 384x640 2 faces, 22.0ms\n",
      "Speed: 2.8ms preprocess, 22.0ms inference, 3.1ms postprocess per image at shape (1, 3, 384, 640)\n",
      "\n",
      "0: 384x640 2 faces, 24.6ms\n",
      "Speed: 2.7ms preprocess, 24.6ms inference, 3.8ms postprocess per image at shape (1, 3, 384, 640)\n",
      "\n",
      "0: 384x640 2 faces, 14.1ms\n",
      "Speed: 2.6ms preprocess, 14.1ms inference, 4.1ms postprocess per image at shape (1, 3, 384, 640)\n"
     ]
    }
   ],
   "source": [
    "# Create a window with the size of the video at the calculated position\n",
    "cv2.namedWindow(\"Image\", cv2.WINDOW_NORMAL)\n",
    "cv2.moveWindow(\"Image\", (video_width - monitor_width) // 2, (video_height - monitor_height) // 2)\n",
    "cv2.resizeWindow(\"Image\", monitor_width, monitor_height)\n",
    "\n",
    "while cap.isOpened():\n",
    "\n",
    "    success, img = cap.read()\n",
    "    if success:\n",
    "\n",
    "        if apply_mask:\n",
    "            img_ready = cv2.bitwise_and(img, img, mask=mask_binary)\n",
    "\n",
    "        else :\n",
    "            img_ready = img\n",
    "\n",
    "\n",
    "        face_result = facemodel.predict(img_ready, conf=0.40)\n",
    "        for info in face_result:\n",
    "            parameters = info.boxes\n",
    "            for box in parameters:\n",
    "                x1,y1,x2,y2 = box.xyxy[0]\n",
    "                x1,y1,x2,y2 = int(x1), int(y1), int(x2), int(y2)\n",
    "                h,w = y2 - y1, x2 - x1\n",
    "                cvzone.cornerRect(img, [x1,y1,w,h], l=9, rt=3)\n",
    "\n",
    "\n",
    "\n",
    "        #display FPS\n",
    "        cv2.putText(img, f'FPS: {int(fps)}', (10  , video_height - 100), cv2.FONT_HERSHEY_SIMPLEX, 5, (255, 255, 255), 2)\n",
    "\n",
    "        cv2.imshow(\"Image\", img)\n",
    "\n",
    "        #End program\n",
    "        if cv2.waitKey(delay) == ord('q'):\n",
    "            cv2.destroyAllWindows()\n",
    "            break"
   ]
  }
 ],
 "metadata": {
  "kernelspec": {
   "display_name": "wakep",
   "language": "python",
   "name": "python3"
  },
  "language_info": {
   "codemirror_mode": {
    "name": "ipython",
    "version": 3
   },
   "file_extension": ".py",
   "mimetype": "text/x-python",
   "name": "python",
   "nbconvert_exporter": "python",
   "pygments_lexer": "ipython3",
   "version": "3.10.6"
  }
 },
 "nbformat": 4,
 "nbformat_minor": 2
}
